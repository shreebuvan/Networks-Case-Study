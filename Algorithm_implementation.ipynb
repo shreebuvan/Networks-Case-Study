{
 "cells": [
  {
   "cell_type": "code",
   "execution_count": 11,
   "metadata": {},
   "outputs": [
    {
     "name": "stdout",
     "output_type": "stream",
     "text": [
      "'Number of packets sent: 27929'\n",
      "'Number of packet received: 28559'\n",
      "'Number of packet dropped: 0'\n",
      "'Simulation time: -t ms'\n"
     ]
    }
   ],
   "source": [
    "from pprint import pprint as pp\n",
    "import sys\n",
    "\n",
    "file_name=sys.argv[1]\n",
    "dsdv_trace = open('dsdv.tr','r')\n",
    "send_count = 0\n",
    "received_count = 0\n",
    "list_trace = []\n",
    "line_count = 0\n",
    "dropped_count = 0\n",
    "\n",
    "for line in dsdv_trace:\n",
    "    list_trace.append(line)\n",
    "    line_count += 1\n",
    "\n",
    "for i in range(line_count):\n",
    "    if((list_trace[i].split(' '))[0] == 's'):\n",
    "        send_count += 1\n",
    "    elif((list_trace[i].split(' '))[0] == 'r'):\n",
    "        received_count += 1\n",
    "    elif((list_trace[i].split(' '))[0] == 'D'):\n",
    "        dropped_count += 1\n",
    "    else:\n",
    "        pass \n",
    "\n",
    "pp('Number of packets sent: {}'.format(send_count))\n",
    "pp('Number of packet received: {}'.format(received_count))\n",
    "pp('Number of packet dropped: {}'.format(dropped_count))\n",
    "pp('Simulation time: {} ms'.format((list_trace[-1].split(' ')[1])))"
   ]
  },
  {
   "cell_type": "code",
   "execution_count": 13,
   "metadata": {},
   "outputs": [
    {
     "name": "stdout",
     "output_type": "stream",
     "text": [
      "'Number of packets sent: 9338'\n",
      "'Number of packet received: 15842'\n",
      "'Number of packet dropped: 3'\n",
      "'Simulation time: 81.196998408 ms'\n"
     ]
    }
   ],
   "source": [
    "from pprint import pprint as pp\n",
    "import sys\n",
    "\n",
    "file_name=sys.argv[1]\n",
    "dsdv_trace = open('dsr.tr','r')\n",
    "send_count = 0\n",
    "received_count = 0\n",
    "list_trace = []\n",
    "line_count = 0\n",
    "dropped_count = 0\n",
    "\n",
    "for line in dsdv_trace:\n",
    "    list_trace.append(line)\n",
    "    line_count += 1\n",
    "\n",
    "for i in range(line_count):\n",
    "    if((list_trace[i].split(' '))[0] == 's'):\n",
    "        send_count += 1\n",
    "    elif((list_trace[i].split(' '))[0] == 'r'):\n",
    "        received_count += 1\n",
    "    elif((list_trace[i].split(' '))[0] == 'D'):\n",
    "        dropped_count += 1\n",
    "    else:\n",
    "        pass \n",
    "\n",
    "pp('Number of packets sent: {}'.format(send_count))\n",
    "pp('Number of packet received: {}'.format(received_count))\n",
    "pp('Number of packet dropped: {}'.format(dropped_count))\n",
    "pp('Simulation time: {} ms'.format((list_trace[-1].split(' ')[1])))"
   ]
  },
  {
   "cell_type": "code",
   "execution_count": 8,
   "metadata": {},
   "outputs": [
    {
     "name": "stdout",
     "output_type": "stream",
     "text": [
      "'Number of packets sent: 3'\n",
      "'Number of packet received: 1'\n",
      "'Number of packet dropped: 0'\n",
      "'Simulation time: 21.501260809 ms'\n"
     ]
    }
   ],
   "source": [
    "from pprint import pprint as pp\n",
    "import sys\n",
    "\n",
    "file_name=sys.argv[1]\n",
    "dsdv_trace = open('aodv.tr','r')\n",
    "send_count = 0\n",
    "received_count = 0\n",
    "list_trace = []\n",
    "line_count = 0\n",
    "dropped_count = 0\n",
    "\n",
    "for line in dsdv_trace:\n",
    "    list_trace.append(line)\n",
    "    line_count += 1\n",
    "\n",
    "for i in range(line_count):\n",
    "    if((list_trace[i].split(' '))[0] == 's'):\n",
    "        send_count += 1\n",
    "    elif((list_trace[i].split(' '))[0] == 'r'):\n",
    "        received_count += 1\n",
    "    elif((list_trace[i].split(' '))[0] == 'D'):\n",
    "        dropped_count += 1\n",
    "    else:\n",
    "        pass \n",
    "\n",
    "pp('Number of packets sent: {}'.format(send_count))\n",
    "pp('Number of packet received: {}'.format(received_count))\n",
    "pp('Number of packet dropped: {}'.format(dropped_count))\n",
    "pp('Simulation time: {} ms'.format((list_trace[-1].split(' ')[1])))"
   ]
  },
  {
   "cell_type": "code",
   "execution_count": null,
   "metadata": {},
   "outputs": [],
   "source": []
  },
  {
   "cell_type": "code",
   "execution_count": null,
   "metadata": {},
   "outputs": [],
   "source": []
  }
 ],
 "metadata": {
  "kernelspec": {
   "display_name": "Python 3",
   "language": "python",
   "name": "python3"
  },
  "language_info": {
   "codemirror_mode": {
    "name": "ipython",
    "version": 3
   },
   "file_extension": ".py",
   "mimetype": "text/x-python",
   "name": "python",
   "nbconvert_exporter": "python",
   "pygments_lexer": "ipython3",
   "version": "3.7.4"
  }
 },
 "nbformat": 4,
 "nbformat_minor": 2
}
